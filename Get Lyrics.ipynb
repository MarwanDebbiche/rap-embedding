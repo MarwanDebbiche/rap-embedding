{
 "cells": [
  {
   "cell_type": "code",
   "execution_count": 4,
   "metadata": {},
   "outputs": [],
   "source": [
    "from lyricsgenius.api import Genius\n",
    "from config import genius_client_access_token\n",
    "import yaml\n",
    "import json\n",
    "from tqdm.notebook import tqdm"
   ]
  },
  {
   "cell_type": "code",
   "execution_count": 5,
   "metadata": {},
   "outputs": [],
   "source": [
    "genius_api = Genius(genius_client_access_token, verbose=False)"
   ]
  },
  {
   "cell_type": "code",
   "execution_count": null,
   "metadata": {},
   "outputs": [
    {
     "data": {
      "application/vnd.jupyter.widget-view+json": {
       "model_id": "96e4fc051e5b468ab1add0e50f2028bc",
       "version_major": 2,
       "version_minor": 0
      },
      "text/plain": [
       "HBox(children=(IntProgress(value=0), HTML(value='')))"
      ]
     },
     "metadata": {},
     "output_type": "display_data"
    }
   ],
   "source": [
    "MAX_SONGS = 20\n",
    "\n",
    "with open(\"artist_list.yaml\", 'r') as f:\n",
    "    artists_names = yaml.load(f)\n",
    "\n",
    "\n",
    "songs = []\n",
    "for artist_name in tqdm(artists_names):\n",
    "    try:\n",
    "        artist = genius_api.search_artist(artist_name, max_songs=MAX_SONGS)\n",
    "    except KeyboardInterrupt as e:\n",
    "        raise e\n",
    "    except:\n",
    "        print(f\"Could not fetch results for artist : {artist}.\\nContinuing...\")\n",
    "        continue\n",
    "    for song in artist.songs:\n",
    "        songs.append({\n",
    "            \"artist\": artist.name,\n",
    "            \"song\": song.title,\n",
    "            \"lyrics\": song.lyrics,\n",
    "            \"year\": song.year[:4],\n",
    "            \"featured_artists\": song.featured_artists,\n",
    "            \"url\": song._url\n",
    "        })"
   ]
  },
  {
   "cell_type": "code",
   "execution_count": null,
   "metadata": {},
   "outputs": [],
   "source": [
    "len(songs)"
   ]
  },
  {
   "cell_type": "code",
   "execution_count": null,
   "metadata": {},
   "outputs": [],
   "source": [
    "with open(\"./data/lyrics_data.json\", \"w\") as f:\n",
    "    json.dump(songs, f, sort_keys=True, indent=4)"
   ]
  }
 ],
 "metadata": {
  "kernelspec": {
   "display_name": "rap-embedding",
   "language": "python",
   "name": "rap-embedding"
  },
  "language_info": {
   "codemirror_mode": {
    "name": "ipython",
    "version": 3
   },
   "file_extension": ".py",
   "mimetype": "text/x-python",
   "name": "python",
   "nbconvert_exporter": "python",
   "pygments_lexer": "ipython3",
   "version": "3.7.2"
  }
 },
 "nbformat": 4,
 "nbformat_minor": 2
}
