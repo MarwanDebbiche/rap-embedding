{
 "cells": [
  {
   "cell_type": "code",
   "execution_count": 3,
   "metadata": {},
   "outputs": [],
   "source": [
    "from lyricsgenius.api import Genius\n",
    "from config import genius_client_access_token, s3_bucket\n",
    "import yaml\n",
    "import json\n",
    "import boto3\n",
    "import time\n",
    "from utils.s3_manager import S3Manager\n",
    "from tqdm.notebook import tqdm"
   ]
  },
  {
   "cell_type": "code",
   "execution_count": 4,
   "metadata": {},
   "outputs": [],
   "source": [
    "s3_manager = S3Manager(s3_bucket)"
   ]
  },
  {
   "cell_type": "code",
   "execution_count": 5,
   "metadata": {},
   "outputs": [],
   "source": [
    "genius_api = Genius(genius_client_access_token, verbose=True, sleep_time=0)"
   ]
  },
  {
   "cell_type": "code",
   "execution_count": 6,
   "metadata": {},
   "outputs": [],
   "source": [
    "MAX_SONGS = 40\n",
    "\n",
    "with open(\"artist_list.yaml\", 'r') as f:\n",
    "    artists_names = set(yaml.load(f, Loader=yaml.FullLoader))"
   ]
  },
  {
   "cell_type": "code",
   "execution_count": 7,
   "metadata": {},
   "outputs": [
    {
     "name": "stdout",
     "output_type": "stream",
     "text": [
      "# songs : 4271\n",
      "# artists : 109\n"
     ]
    }
   ],
   "source": [
    "# Get last songs if already in S3\n",
    "songs = s3_manager.get_latest_song_data()\n",
    "\n",
    "if songs is None:\n",
    "    found_artists = set()\n",
    "    songs = []\n",
    "else:\n",
    "    found_artists = set(map(lambda song: song[\"artist_name\"], songs))\n",
    "\n",
    "print(f\"# songs : {len(songs)}\")\n",
    "print(f\"# artists : {len(found_artists)}\")"
   ]
  },
  {
   "cell_type": "code",
   "execution_count": null,
   "metadata": {
    "scrolled": true
   },
   "outputs": [],
   "source": [
    "for artist_name in tqdm(artists_names - found_artists):\n",
    "    print(\"\\nSearching {}\".format(artist_name))\n",
    "\n",
    "    try:\n",
    "        artist = genius_api.search_artist(artist_name, max_songs=MAX_SONGS)\n",
    "        for song in artist.songs:\n",
    "            songs.append({\n",
    "                \"artist_name\": artist_name,\n",
    "                \"artist\": artist.name,\n",
    "                \"song\": song.title,\n",
    "                \"lyrics\": song.lyrics,\n",
    "                \"year\": song.year[:4] if song.year is not None else None,\n",
    "                \"featured_artists\": song.featured_artists,\n",
    "                \"url\": song._url\n",
    "            })\n",
    "    except KeyboardInterrupt as e:\n",
    "        raise e\n",
    "    except:\n",
    "        print(f\"Could not fetch results for artist : {artist_name}. Continuing...\")\n",
    "        continue"
   ]
  },
  {
   "cell_type": "code",
   "execution_count": null,
   "metadata": {},
   "outputs": [],
   "source": [
    "len(songs)"
   ]
  },
  {
   "cell_type": "code",
   "execution_count": null,
   "metadata": {},
   "outputs": [],
   "source": [
    "s3_manager.save_song_data(songs)"
   ]
  }
 ],
 "metadata": {
  "kernelspec": {
   "display_name": "rap-embedding",
   "language": "python",
   "name": "rap-embedding"
  },
  "language_info": {
   "codemirror_mode": {
    "name": "ipython",
    "version": 3
   },
   "file_extension": ".py",
   "mimetype": "text/x-python",
   "name": "python",
   "nbconvert_exporter": "python",
   "pygments_lexer": "ipython3",
   "version": "3.7.2"
  }
 },
 "nbformat": 4,
 "nbformat_minor": 2
}
