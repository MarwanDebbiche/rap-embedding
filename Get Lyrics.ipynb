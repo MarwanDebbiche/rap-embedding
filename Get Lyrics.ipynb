{
 "cells": [
  {
   "cell_type": "code",
   "execution_count": 11,
   "metadata": {},
   "outputs": [],
   "source": [
    "from lyricsgenius.api import Genius\n",
    "from config import genius_client_access_token, s3_bucket\n",
    "import yaml\n",
    "import json\n",
    "from tqdm.notebook import tqdm\n",
    "import boto3\n",
    "import pandas as pd"
   ]
  },
  {
   "cell_type": "code",
   "execution_count": 3,
   "metadata": {},
   "outputs": [],
   "source": [
    "genius_api = Genius(genius_client_access_token, verbose=False)"
   ]
  },
  {
   "cell_type": "code",
   "execution_count": 5,
   "metadata": {},
   "outputs": [
    {
     "data": {
      "application/vnd.jupyter.widget-view+json": {
       "model_id": "643ab1af81674451a534d59a7beb9792",
       "version_major": 2,
       "version_minor": 0
      },
      "text/plain": [
       "HBox(children=(IntProgress(value=0, max=3), HTML(value='')))"
      ]
     },
     "metadata": {},
     "output_type": "display_data"
    },
    {
     "name": "stdout",
     "output_type": "stream",
     "text": [
      "\n"
     ]
    }
   ],
   "source": [
    "MAX_SONGS = 3\n",
    "\n",
    "with open(\"artist_list.yaml\", 'r') as f:\n",
    "    artists_names = yaml.load(f, Loader=yaml.FullLoader)\n",
    "\n",
    "\n",
    "songs = []\n",
    "for artist_name in tqdm(artists_names):\n",
    "    try:\n",
    "        artist = genius_api.search_artist(artist_name, max_songs=MAX_SONGS)\n",
    "    except KeyboardInterrupt as e:\n",
    "        raise e\n",
    "    except:\n",
    "        print(f\"Could not fetch results for artist : {artist_name}. Continuing...\")\n",
    "        continue\n",
    "\n",
    "    for song in artist.songs:\n",
    "        songs.append({\n",
    "            \"artist_name\": artist_name,\n",
    "            \"artist_name_genius\": artist.name,\n",
    "            \"song\": song.title,\n",
    "            \"lyrics\": song.lyrics,\n",
    "            \"year\": song.year[:4] if song.year is not None else None,\n",
    "            \"featured_artists\": song.featured_artists,\n",
    "            \"url\": song._url\n",
    "        })"
   ]
  },
  {
   "cell_type": "code",
   "execution_count": 8,
   "metadata": {},
   "outputs": [],
   "source": [
    "bucket = boto3.resource(\"s3\").Bucket(s3_bucket)"
   ]
  },
  {
   "cell_type": "code",
   "execution_count": 9,
   "metadata": {},
   "outputs": [
    {
     "data": {
      "text/plain": [
       "{'ResponseMetadata': {'RequestId': '46C24C0AE540D40F',\n",
       "  'HostId': 'iWnxN3HvYx86vQlCM1oPxGKFMWi8ArsK18879Qyz9ouDf4kxIuMNAIRYRpODFGs8gs4J5vgakfQ=',\n",
       "  'HTTPStatusCode': 200,\n",
       "  'HTTPHeaders': {'x-amz-id-2': 'iWnxN3HvYx86vQlCM1oPxGKFMWi8ArsK18879Qyz9ouDf4kxIuMNAIRYRpODFGs8gs4J5vgakfQ=',\n",
       "   'x-amz-request-id': '46C24C0AE540D40F',\n",
       "   'date': 'Mon, 02 Dec 2019 10:52:24 GMT',\n",
       "   'etag': '\"8dbed6e7038755331c1258fde384055d\"',\n",
       "   'content-length': '0',\n",
       "   'server': 'AmazonS3'},\n",
       "  'RetryAttempts': 0},\n",
       " 'ETag': '\"8dbed6e7038755331c1258fde384055d\"'}"
      ]
     },
     "execution_count": 9,
     "metadata": {},
     "output_type": "execute_result"
    }
   ],
   "source": [
    "bucket.Object(key=\"lyrics_data.json\").put(Body=json.dumps(songs, sort_keys=True, indent=4))"
   ]
  },
  {
   "cell_type": "code",
   "execution_count": 12,
   "metadata": {},
   "outputs": [
    {
     "data": {
      "text/html": [
       "<div>\n",
       "<style scoped>\n",
       "    .dataframe tbody tr th:only-of-type {\n",
       "        vertical-align: middle;\n",
       "    }\n",
       "\n",
       "    .dataframe tbody tr th {\n",
       "        vertical-align: top;\n",
       "    }\n",
       "\n",
       "    .dataframe thead th {\n",
       "        text-align: right;\n",
       "    }\n",
       "</style>\n",
       "<table border=\"1\" class=\"dataframe\">\n",
       "  <thead>\n",
       "    <tr style=\"text-align: right;\">\n",
       "      <th></th>\n",
       "      <th>artist_name</th>\n",
       "      <th>artist_name_genius</th>\n",
       "      <th>song</th>\n",
       "      <th>lyrics</th>\n",
       "      <th>year</th>\n",
       "      <th>featured_artists</th>\n",
       "      <th>url</th>\n",
       "    </tr>\n",
       "  </thead>\n",
       "  <tbody>\n",
       "    <tr>\n",
       "      <th>1</th>\n",
       "      <td>7 jaws</td>\n",
       "      <td>7 Jaws</td>\n",
       "      <td>3h30</td>\n",
       "      <td>[Refrain]\\nYuh, 3H30 la tequila s'ressent dans...</td>\n",
       "      <td>2016</td>\n",
       "      <td>[]</td>\n",
       "      <td>https://genius.com/7-jaws-3h30-lyrics</td>\n",
       "    </tr>\n",
       "    <tr>\n",
       "      <th>3</th>\n",
       "      <td>a2h</td>\n",
       "      <td>A2H</td>\n",
       "      <td>Une dernière fois</td>\n",
       "      <td>[Intro]\\nPromis : demain, j'arrête cette merde...</td>\n",
       "      <td>2016</td>\n",
       "      <td>[]</td>\n",
       "      <td>https://genius.com/A2h-une-derniere-fois-lyrics</td>\n",
       "    </tr>\n",
       "    <tr>\n",
       "      <th>8</th>\n",
       "      <td>akhenaton</td>\n",
       "      <td>Akhenaton</td>\n",
       "      <td>La Fin de leur Monde</td>\n",
       "      <td>Avant-propos :[Couplet 1 : Shurik'n]\\nRegarde ...</td>\n",
       "      <td>2006</td>\n",
       "      <td>[{'api_path': '/artists/1967', 'header_image_u...</td>\n",
       "      <td>https://genius.com/Akhenaton-la-fin-de-leur-mo...</td>\n",
       "    </tr>\n",
       "    <tr>\n",
       "      <th>7</th>\n",
       "      <td>akhenaton</td>\n",
       "      <td>Akhenaton</td>\n",
       "      <td>Bad boys de Marseille (Part 2)</td>\n",
       "      <td>Canaille, canaille, ah le mauvais garçon.(x3)\\...</td>\n",
       "      <td>1996</td>\n",
       "      <td>[{'api_path': '/artists/13333', 'header_image_...</td>\n",
       "      <td>https://genius.com/Akhenaton-bad-boys-de-marse...</td>\n",
       "    </tr>\n",
       "    <tr>\n",
       "      <th>6</th>\n",
       "      <td>akhenaton</td>\n",
       "      <td>Akhenaton</td>\n",
       "      <td>Mon texte, le savon</td>\n",
       "      <td>[Couplet 1]\\nC'que j'te livre, non rien de com...</td>\n",
       "      <td>None</td>\n",
       "      <td>[]</td>\n",
       "      <td>https://genius.com/Akhenaton-mon-texte-le-savo...</td>\n",
       "    </tr>\n",
       "  </tbody>\n",
       "</table>\n",
       "</div>"
      ],
      "text/plain": [
       "  artist_name artist_name_genius                            song  \\\n",
       "1      7 jaws             7 Jaws                            3h30   \n",
       "3         a2h                A2H               Une dernière fois   \n",
       "8   akhenaton          Akhenaton            La Fin de leur Monde   \n",
       "7   akhenaton          Akhenaton  Bad boys de Marseille (Part 2)   \n",
       "6   akhenaton          Akhenaton             Mon texte, le savon   \n",
       "\n",
       "                                              lyrics  year  \\\n",
       "1  [Refrain]\\nYuh, 3H30 la tequila s'ressent dans...  2016   \n",
       "3  [Intro]\\nPromis : demain, j'arrête cette merde...  2016   \n",
       "8  Avant-propos :[Couplet 1 : Shurik'n]\\nRegarde ...  2006   \n",
       "7  Canaille, canaille, ah le mauvais garçon.(x3)\\...  1996   \n",
       "6  [Couplet 1]\\nC'que j'te livre, non rien de com...  None   \n",
       "\n",
       "                                    featured_artists  \\\n",
       "1                                                 []   \n",
       "3                                                 []   \n",
       "8  [{'api_path': '/artists/1967', 'header_image_u...   \n",
       "7  [{'api_path': '/artists/13333', 'header_image_...   \n",
       "6                                                 []   \n",
       "\n",
       "                                                 url  \n",
       "1              https://genius.com/7-jaws-3h30-lyrics  \n",
       "3    https://genius.com/A2h-une-derniere-fois-lyrics  \n",
       "8  https://genius.com/Akhenaton-la-fin-de-leur-mo...  \n",
       "7  https://genius.com/Akhenaton-bad-boys-de-marse...  \n",
       "6  https://genius.com/Akhenaton-mon-texte-le-savo...  "
      ]
     },
     "execution_count": 12,
     "metadata": {},
     "output_type": "execute_result"
    }
   ],
   "source": [
    "df_songs = pd.DataFrame(songs)\n",
    "df_songs.sample(5)"
   ]
  },
  {
   "cell_type": "code",
   "execution_count": 14,
   "metadata": {},
   "outputs": [
    {
     "data": {
      "text/html": [
       "<div>\n",
       "<style scoped>\n",
       "    .dataframe tbody tr th:only-of-type {\n",
       "        vertical-align: middle;\n",
       "    }\n",
       "\n",
       "    .dataframe tbody tr th {\n",
       "        vertical-align: top;\n",
       "    }\n",
       "\n",
       "    .dataframe thead th {\n",
       "        text-align: right;\n",
       "    }\n",
       "</style>\n",
       "<table border=\"1\" class=\"dataframe\">\n",
       "  <thead>\n",
       "    <tr style=\"text-align: right;\">\n",
       "      <th></th>\n",
       "      <th>artist_name</th>\n",
       "      <th>song_count</th>\n",
       "    </tr>\n",
       "  </thead>\n",
       "  <tbody>\n",
       "    <tr>\n",
       "      <th>0</th>\n",
       "      <td>7 jaws</td>\n",
       "      <td>3</td>\n",
       "    </tr>\n",
       "    <tr>\n",
       "      <th>1</th>\n",
       "      <td>a2h</td>\n",
       "      <td>3</td>\n",
       "    </tr>\n",
       "    <tr>\n",
       "      <th>2</th>\n",
       "      <td>akhenaton</td>\n",
       "      <td>3</td>\n",
       "    </tr>\n",
       "  </tbody>\n",
       "</table>\n",
       "</div>"
      ],
      "text/plain": [
       "  artist_name  song_count\n",
       "0      7 jaws           3\n",
       "1         a2h           3\n",
       "2   akhenaton           3"
      ]
     },
     "execution_count": 14,
     "metadata": {},
     "output_type": "execute_result"
    }
   ],
   "source": [
    "df_song_count = df_songs.groupby(\"artist_name\").size().reset_index().rename(columns={0: \"song_count\"})\n",
    "df_song_count.sort_values(\"song_count\")"
   ]
  }
 ],
 "metadata": {
  "kernelspec": {
   "display_name": "rap-embedding",
   "language": "python",
   "name": "rap-embedding"
  },
  "language_info": {
   "codemirror_mode": {
    "name": "ipython",
    "version": 3
   },
   "file_extension": ".py",
   "mimetype": "text/x-python",
   "name": "python",
   "nbconvert_exporter": "python",
   "pygments_lexer": "ipython3",
   "version": "3.7.2"
  }
 },
 "nbformat": 4,
 "nbformat_minor": 2
}
